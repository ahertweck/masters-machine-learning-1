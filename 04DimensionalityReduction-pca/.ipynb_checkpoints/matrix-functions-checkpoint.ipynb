{
 "cells": [
  {
   "cell_type": "code",
   "execution_count": 1,
   "metadata": {},
   "outputs": [],
   "source": [
    "import numpy as np"
   ]
  },
  {
   "cell_type": "markdown",
   "metadata": {},
   "source": [
    "## Matrix multiplication"
   ]
  },
  {
   "cell_type": "code",
   "execution_count": 8,
   "metadata": {},
   "outputs": [],
   "source": [
    "A = np.array([[2,7,1], [-2,1,8], [3,4,-2]])"
   ]
  },
  {
   "cell_type": "code",
   "execution_count": 9,
   "metadata": {},
   "outputs": [
    {
     "data": {
      "text/plain": [
       "array([[ 2,  7,  1],\n",
       "       [-2,  1,  8],\n",
       "       [ 3,  4, -2]])"
      ]
     },
     "execution_count": 9,
     "metadata": {},
     "output_type": "execute_result"
    }
   ],
   "source": [
    "A"
   ]
  },
  {
   "cell_type": "code",
   "execution_count": 10,
   "metadata": {},
   "outputs": [],
   "source": [
    "B = np.array([[8,1,3], [3,5,8], [7,-2,-4]])"
   ]
  },
  {
   "cell_type": "code",
   "execution_count": 11,
   "metadata": {},
   "outputs": [
    {
     "data": {
      "text/plain": [
       "array([[ 8,  1,  3],\n",
       "       [ 3,  5,  8],\n",
       "       [ 7, -2, -4]])"
      ]
     },
     "execution_count": 11,
     "metadata": {},
     "output_type": "execute_result"
    }
   ],
   "source": [
    "B"
   ]
  },
  {
   "cell_type": "code",
   "execution_count": 12,
   "metadata": {},
   "outputs": [],
   "source": [
    "# matrix multiplication\n",
    "\n",
    "C = A @ B"
   ]
  },
  {
   "cell_type": "code",
   "execution_count": 13,
   "metadata": {},
   "outputs": [
    {
     "data": {
      "text/plain": [
       "array([[ 44,  35,  58],\n",
       "       [ 43, -13, -30],\n",
       "       [ 22,  27,  49]])"
      ]
     },
     "execution_count": 13,
     "metadata": {},
     "output_type": "execute_result"
    }
   ],
   "source": [
    "C"
   ]
  },
  {
   "cell_type": "markdown",
   "metadata": {},
   "source": [
    "## Matrix Inverse - linalg Change your basis"
   ]
  },
  {
   "cell_type": "code",
   "execution_count": 162,
   "metadata": {
    "scrolled": true
   },
   "outputs": [],
   "source": [
    "# row major - no transpose needed\n",
    "B1 = np.array([[1,3,4,2], [3,2,4,1], [1,2,3,4], [3,2,1,1]])\n",
    "B1 = B1.transpose()"
   ]
  },
  {
   "cell_type": "code",
   "execution_count": 163,
   "metadata": {},
   "outputs": [],
   "source": [
    "# row major - no transpose needed\n",
    "B2 = np.array([[1,1,2,3], [3,3,2,1], [1,2,2,3], [1,2,2,1]])\n",
    "B2 = B2.transpose()"
   ]
  },
  {
   "cell_type": "code",
   "execution_count": 164,
   "metadata": {
    "scrolled": true
   },
   "outputs": [
    {
     "data": {
      "text/plain": [
       "array([[ 0.5 , -1.  ,  0.75,  0.  ],\n",
       "       [ 0.5 ,  0.  , -0.25,  0.  ],\n",
       "       [-0.5 ,  1.  , -1.  ,  0.5 ],\n",
       "       [-0.5 ,  0.  ,  1.  , -0.5 ]])"
      ]
     },
     "execution_count": 164,
     "metadata": {},
     "output_type": "execute_result"
    }
   ],
   "source": [
    "# taking inverse of B2\n",
    "B2Inverse = np.linalg.inv(B2)\n",
    "B2Inverse"
   ]
  },
  {
   "cell_type": "code",
   "execution_count": 165,
   "metadata": {},
   "outputs": [
    {
     "data": {
      "text/plain": [
       "array([[ 0.5 ,  2.5 ,  0.75,  0.25],\n",
       "       [-0.5 ,  0.5 , -0.25,  1.25],\n",
       "       [-0.5 , -3.  ,  0.5 ,  0.  ],\n",
       "       [ 2.5 ,  2.  ,  0.5 , -1.  ]])"
      ]
     },
     "execution_count": 165,
     "metadata": {},
     "output_type": "execute_result"
    }
   ],
   "source": [
    "M = B2Inverse @ B1\n",
    "\n",
    "# displaying the final answer, in my opinion\n",
    "M"
   ]
  },
  {
   "cell_type": "code",
   "execution_count": null,
   "metadata": {},
   "outputs": [],
   "source": []
  }
 ],
 "metadata": {
  "kernelspec": {
   "display_name": "Python 3",
   "language": "python",
   "name": "python3"
  },
  "language_info": {
   "codemirror_mode": {
    "name": "ipython",
    "version": 3
   },
   "file_extension": ".py",
   "mimetype": "text/x-python",
   "name": "python",
   "nbconvert_exporter": "python",
   "pygments_lexer": "ipython3",
   "version": "3.7.6"
  }
 },
 "nbformat": 4,
 "nbformat_minor": 2
}
